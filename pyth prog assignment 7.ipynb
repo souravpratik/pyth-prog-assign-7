{
 "cells": [
  {
   "cell_type": "markdown",
   "id": "797a1ed2",
   "metadata": {},
   "source": [
    "# PROGRAMMING ASSIGNMENT-07"
   ]
  },
  {
   "cell_type": "code",
   "execution_count": 2,
   "id": "a5dfa4c5",
   "metadata": {},
   "outputs": [],
   "source": [
    "#QUESTION 1: Write a Python Program to find sum of array?\n",
    "def sum_array():\n",
    "    n=int(input(\"enter no. of elements in array: \"))\n",
    "    array=[]\n",
    "    sum=0\n",
    "    print(\"enter elements of array:\")\n",
    "    for i in range(0,n):\n",
    "        ele=int(input())\n",
    "        array.append(ele)\n",
    "    for i in array:\n",
    "        sum=sum+i\n",
    "    return(sum)\n",
    "    \n"
   ]
  },
  {
   "cell_type": "code",
   "execution_count": 3,
   "id": "10989b20",
   "metadata": {},
   "outputs": [
    {
     "name": "stdout",
     "output_type": "stream",
     "text": [
      "enter no. of elements in array: 5\n",
      "enter elements of array:\n",
      "1\n",
      "2\n",
      "3\n",
      "4\n",
      "5\n"
     ]
    },
    {
     "data": {
      "text/plain": [
       "15"
      ]
     },
     "execution_count": 3,
     "metadata": {},
     "output_type": "execute_result"
    }
   ],
   "source": [
    "sum_array()"
   ]
  },
  {
   "cell_type": "code",
   "execution_count": 33,
   "id": "b71a6264",
   "metadata": {},
   "outputs": [],
   "source": [
    "#QUESTION 2: Write a Python Program to find largest element in an array?\n",
    "def large_element():\n",
    "    l=[]\n",
    "    j=[]\n",
    "    n=int(input(\"enter no. of elements in array: \"))\n",
    "    print(\"enter elements of array: \")\n",
    "    for i in range(0,n):\n",
    "        ele=int(input())\n",
    "        l.append(ele)\n",
    "    j=sorted(l[n-1::-1])\n",
    "    print(\"largest element of array is :\",j[n-1])\n",
    "    \n"
   ]
  },
  {
   "cell_type": "code",
   "execution_count": 35,
   "id": "dfba0f2c",
   "metadata": {},
   "outputs": [
    {
     "name": "stdout",
     "output_type": "stream",
     "text": [
      "enter no. of elements in array: 5\n",
      "enter elements of array: \n",
      "6\n",
      "7\n",
      "3\n",
      "9\n",
      "2\n",
      "largest element of array is : 9\n"
     ]
    }
   ],
   "source": [
    "large_element()"
   ]
  },
  {
   "cell_type": "code",
   "execution_count": 22,
   "id": "41d0f43d",
   "metadata": {},
   "outputs": [],
   "source": [
    "#QUESTION 3: Write a Python Program for array rotation?\n",
    "\n",
    "def array_rotation():\n",
    "\n",
    "    \n",
    "    d=int(input(\"enter no. of rotation required: \"))\n",
    "    arr1 = []\n",
    "    n = int(input(\"Enter number of elements : \"))\n",
    "  \n",
    "\n",
    "    for i in range(0, n):\n",
    "        ele = int(input())\n",
    "  \n",
    "        arr1.append(ele) \n",
    "      \n",
    "    print(arr1)\n",
    "    arr2=[]\n",
    "    arr3=[]\n",
    "    \n",
    "    arr2.append(arr1[(n-1):(d-1):-1])\n",
    "    arr3.append(arr1[0:(d)])\n",
    "    for i in arr3[0][0:d]:\n",
    "        arr2[0].append(i)\n",
    "    \n",
    "    return (arr2[0])\n",
    "\n",
    "\n"
   ]
  },
  {
   "cell_type": "code",
   "execution_count": 23,
   "id": "81064c24",
   "metadata": {},
   "outputs": [
    {
     "name": "stdout",
     "output_type": "stream",
     "text": [
      "enter no. of rotation required: 3\n",
      "Enter number of elements : 7\n",
      "1\n",
      "2\n",
      "3\n",
      "4\n",
      "5\n",
      "6\n",
      "7\n",
      "[1, 2, 3, 4, 5, 6, 7]\n"
     ]
    },
    {
     "data": {
      "text/plain": [
       "[7, 6, 5, 4, 1, 2, 3]"
      ]
     },
     "execution_count": 23,
     "metadata": {},
     "output_type": "execute_result"
    }
   ],
   "source": [
    "array_rotation()"
   ]
  },
  {
   "cell_type": "code",
   "execution_count": 2,
   "id": "f406924a",
   "metadata": {},
   "outputs": [],
   "source": [
    "#QUESTION 4: Write a Python Program to Split the array and add the first part to the end?\n",
    "\n",
    "def split_array():\n",
    "    n1=int(input(\"enter no. of elements in array: \"))\n",
    "    \n",
    "    arr1=[]\n",
    "    arr2=[]\n",
    "    arr3=[]\n",
    "    print(\"enter elements of array: \")\n",
    "    for i in range(0,n1):\n",
    "        ele1=int(input())\n",
    "        arr1.append(ele1)\n",
    "    print(\"initial array: \",arr1)\n",
    "    n=int(input(\"enter index to split: \"))\n",
    "    arr2=arr2+arr1[0:n+1]\n",
    "    arr3=arr3+arr1[n+1:n1]\n",
    "    print(arr2,arr3)\n",
    "    arr1=arr1+arr2\n",
    "    return(\"the resultant array is :\",arr1)\n",
    "    \n",
    "        "
   ]
  },
  {
   "cell_type": "code",
   "execution_count": 3,
   "id": "14e09c3a",
   "metadata": {},
   "outputs": [
    {
     "name": "stdout",
     "output_type": "stream",
     "text": [
      "enter no. of elements in array: 5\n",
      "enter elements of array: \n",
      "1\n",
      "2\n",
      "3\n",
      "4\n",
      "5\n",
      "initial array:  [1, 2, 3, 4, 5]\n",
      "enter index to split: 2\n",
      "[1, 2, 3] [4, 5]\n"
     ]
    },
    {
     "data": {
      "text/plain": [
       "('the resultant array is :', [1, 2, 3, 4, 5, 1, 2, 3])"
      ]
     },
     "execution_count": 3,
     "metadata": {},
     "output_type": "execute_result"
    }
   ],
   "source": [
    "split_array()"
   ]
  },
  {
   "cell_type": "code",
   "execution_count": 1,
   "id": "f9fb6428",
   "metadata": {},
   "outputs": [],
   "source": [
    "#QUESTION 5:Write a Python Program to check if given array is Monotonic?\n",
    "\n",
    "def mono():\n",
    "    n=int(input(\"enter no. of elements of array: \"))\n",
    "    l=[]\n",
    "    print(\"enter elements of array: \")\n",
    "    for i in range(0,n):\n",
    "        ele=int(input())\n",
    "        l.append(ele)\n",
    "    print(\"array entered: \",l)\n",
    "    if (all(l[i]<=l[i+1] for i in range(n-1)) or all(l[i]>=l[i+1] for i in range(n-1))):\n",
    "        return (\"montonic\")\n",
    "    else:\n",
    "        return(\"non monotonic\")"
   ]
  },
  {
   "cell_type": "code",
   "execution_count": 2,
   "id": "540cd8aa",
   "metadata": {},
   "outputs": [
    {
     "name": "stdout",
     "output_type": "stream",
     "text": [
      "enter no. of elements of array: 5\n",
      "enter elements of array: \n",
      "5\n",
      "6\n",
      "7\n",
      "9\n",
      "2\n",
      "array entered:  [5, 6, 7, 9, 2]\n"
     ]
    },
    {
     "data": {
      "text/plain": [
       "'non monotonic'"
      ]
     },
     "execution_count": 2,
     "metadata": {},
     "output_type": "execute_result"
    }
   ],
   "source": [
    "mono()\n"
   ]
  },
  {
   "cell_type": "code",
   "execution_count": 31,
   "id": "c4f9627a",
   "metadata": {},
   "outputs": [],
   "source": [
    "#QUESTION 5:Write a Python Program to check if given array is Monotonic?\n",
    "\n",
    "def mono1():\n",
    "    n=int(input(\"enter no. of elements of array: \"))\n",
    "    l1=[]\n",
    "    l2=[]\n",
    "    l3=[]\n",
    "    print(\"enter elements of array: \")\n",
    "    for i in range(0,n):\n",
    "        ele=int(input())\n",
    "        l1.append(ele)\n",
    "    print(\"array entered: \",l1)\n",
    "    l2=sorted(l1)\n",
    "    l3=l2[n-1::-1]\n",
    "        \n",
    "        \n",
    "    \n",
    "    if l2==l1:\n",
    "        print(\"increasing monotonic\")\n",
    "    elif l3==l1:\n",
    "        print(\"decreasing monotonic\")\n",
    "    else:\n",
    "        return(\"non monotonic\")\n",
    "    "
   ]
  },
  {
   "cell_type": "code",
   "execution_count": 32,
   "id": "aa55544c",
   "metadata": {},
   "outputs": [
    {
     "name": "stdout",
     "output_type": "stream",
     "text": [
      "enter no. of elements of array: 5\n",
      "enter elements of array: \n",
      "9\n",
      "3\n",
      "4\n",
      "5\n",
      "2\n",
      "array entered:  [9, 3, 4, 5, 2]\n",
      "[9, 3, 4, 5, 2] [2, 3, 4, 5, 9] [9, 5, 4, 3, 2]\n"
     ]
    },
    {
     "data": {
      "text/plain": [
       "'non monotonic'"
      ]
     },
     "execution_count": 32,
     "metadata": {},
     "output_type": "execute_result"
    }
   ],
   "source": [
    "mono1()"
   ]
  },
  {
   "cell_type": "code",
   "execution_count": null,
   "id": "c1f3df13",
   "metadata": {},
   "outputs": [],
   "source": []
  }
 ],
 "metadata": {
  "kernelspec": {
   "display_name": "Python 3 (ipykernel)",
   "language": "python",
   "name": "python3"
  },
  "language_info": {
   "codemirror_mode": {
    "name": "ipython",
    "version": 3
   },
   "file_extension": ".py",
   "mimetype": "text/x-python",
   "name": "python",
   "nbconvert_exporter": "python",
   "pygments_lexer": "ipython3",
   "version": "3.9.7"
  }
 },
 "nbformat": 4,
 "nbformat_minor": 5
}
